{
 "cells": [
  {
   "cell_type": "markdown",
   "id": "c4d55d11",
   "metadata": {},
   "source": [
    "# Домашнее задание 1\n",
    "\n",
    "\n",
    "# Easy\n",
    "Нужно написать функцию, которая на вход получает список из чисел, а на выходе дает список, где каждое число возведено в квадрат. Решать при помощи цикла.\n",
    "\n",
    "Попробовать на вход:\n",
    "\n",
    "\n",
    "# 1.\n",
    "list(range(10))\n",
    "\n",
    "# 2.\n",
    "list(range(100))\n",
    "\n",
    "# 3.\n",
    "list()"
   ]
  },
  {
   "cell_type": "code",
   "execution_count": 4,
   "id": "5eeb5087",
   "metadata": {},
   "outputs": [],
   "source": [
    "def list_sqr(s_list):\n",
    "    n_list = []\n",
    "    for i in range(len(s_list)):\n",
    "        n_list.append((s_list)[i]*(s_list)[i])\n",
    "    return n_list"
   ]
  },
  {
   "cell_type": "code",
   "execution_count": 5,
   "id": "80eb4153",
   "metadata": {},
   "outputs": [
    {
     "name": "stdout",
     "output_type": "stream",
     "text": [
      "[0, 1, 4, 9, 16, 25, 36, 49, 64, 81]\n",
      "[0, 1, 4, 9, 16, 25, 36, 49, 64, 81, 100, 121, 144, 169, 196, 225, 256, 289, 324, 361, 400, 441, 484, 529, 576, 625, 676, 729, 784, 841, 900, 961, 1024, 1089, 1156, 1225, 1296, 1369, 1444, 1521, 1600, 1681, 1764, 1849, 1936, 2025, 2116, 2209, 2304, 2401, 2500, 2601, 2704, 2809, 2916, 3025, 3136, 3249, 3364, 3481, 3600, 3721, 3844, 3969, 4096, 4225, 4356, 4489, 4624, 4761, 4900, 5041, 5184, 5329, 5476, 5625, 5776, 5929, 6084, 6241, 6400, 6561, 6724, 6889, 7056, 7225, 7396, 7569, 7744, 7921, 8100, 8281, 8464, 8649, 8836, 9025, 9216, 9409, 9604, 9801]\n",
      "[]\n"
     ]
    }
   ],
   "source": [
    "print(list_sqr(list(range(10))))\n",
    "print(list_sqr(list(range(100))))\n",
    "print(list_sqr(list()))"
   ]
  },
  {
   "cell_type": "markdown",
   "id": "c4fb322f",
   "metadata": {},
   "source": [
    "# Normal\n",
    "Тоже самое, но на этот раз без цикла (смотрим раздел с функциями из ноутбука, который разбирали в классе). Сравнить скорость выполнения первого и второго варианта."
   ]
  },
  {
   "cell_type": "code",
   "execution_count": 13,
   "id": "bdc7f6e5",
   "metadata": {},
   "outputs": [],
   "source": [
    "def funk_sqr(i):\n",
    "    return i*i\n",
    "def funk_list(x):\n",
    "    return list(map(funk_sqr, x))"
   ]
  },
  {
   "cell_type": "code",
   "execution_count": 15,
   "id": "685c0f3c",
   "metadata": {},
   "outputs": [
    {
     "name": "stdout",
     "output_type": "stream",
     "text": [
      "[0, 1, 4, 9, 16, 25, 36, 49, 64, 81]\n",
      "[0, 1, 4, 9, 16, 25, 36, 49, 64, 81, 100, 121, 144, 169, 196, 225, 256, 289, 324, 361, 400, 441, 484, 529, 576, 625, 676, 729, 784, 841, 900, 961, 1024, 1089, 1156, 1225, 1296, 1369, 1444, 1521, 1600, 1681, 1764, 1849, 1936, 2025, 2116, 2209, 2304, 2401, 2500, 2601, 2704, 2809, 2916, 3025, 3136, 3249, 3364, 3481, 3600, 3721, 3844, 3969, 4096, 4225, 4356, 4489, 4624, 4761, 4900, 5041, 5184, 5329, 5476, 5625, 5776, 5929, 6084, 6241, 6400, 6561, 6724, 6889, 7056, 7225, 7396, 7569, 7744, 7921, 8100, 8281, 8464, 8649, 8836, 9025, 9216, 9409, 9604, 9801]\n",
      "[]\n"
     ]
    }
   ],
   "source": [
    "print(funk_list(list(range(10))))\n",
    "print(funk_list(list(range(100))))\n",
    "print(funk_list(list()))"
   ]
  },
  {
   "cell_type": "code",
   "execution_count": 17,
   "id": "38bbc732",
   "metadata": {},
   "outputs": [
    {
     "name": "stdout",
     "output_type": "stream",
     "text": [
      "3.24 µs ± 523 ns per loop (mean ± std. dev. of 7 runs, 100000 loops each)\n"
     ]
    }
   ],
   "source": [
    "%%timeit\n",
    "list_sqr(list(range(10)))"
   ]
  },
  {
   "cell_type": "code",
   "execution_count": 18,
   "id": "f7544a79",
   "metadata": {},
   "outputs": [
    {
     "name": "stdout",
     "output_type": "stream",
     "text": [
      "2.32 µs ± 125 ns per loop (mean ± std. dev. of 7 runs, 1000000 loops each)\n"
     ]
    }
   ],
   "source": [
    "%%timeit\n",
    "funk_list(list(range(10)))"
   ]
  },
  {
   "cell_type": "markdown",
   "id": "32f2fd01",
   "metadata": {},
   "source": [
    "# Hard\n",
    "Написать функцию, которая на вход принимает список, а возвращает словарь со среднием, медианой и модой, например вот такой: {\"mean\": ..., \"median\": ..., \"mode\": ...}. На следующем занятии разберем как это сделать при помощи библиотек, а пока нужно реализовать просто по формулам.\n",
    "\n",
    "Пример:\n",
    "\n",
    "\n",
    "func([0, 1, 1, 10, 5, 4, 3])\n",
    "\n",
    " Должно вернуть: {\"mean\": 3.4285, \"median\": 3, \"mode\": 1}"
   ]
  },
  {
   "cell_type": "code",
   "execution_count": null,
   "id": "a1ae5962",
   "metadata": {},
   "outputs": [],
   "source": []
  }
 ],
 "metadata": {
  "kernelspec": {
   "display_name": "Python 3 (ipykernel)",
   "language": "python",
   "name": "python3"
  },
  "language_info": {
   "codemirror_mode": {
    "name": "ipython",
    "version": 3
   },
   "file_extension": ".py",
   "mimetype": "text/x-python",
   "name": "python",
   "nbconvert_exporter": "python",
   "pygments_lexer": "ipython3",
   "version": "3.9.7"
  }
 },
 "nbformat": 4,
 "nbformat_minor": 5
}
